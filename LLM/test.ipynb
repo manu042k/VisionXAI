{
 "cells": [
  {
   "cell_type": "code",
   "execution_count": 10,
   "metadata": {},
   "outputs": [],
   "source": [
    "import os\n",
    "from dotenv import load_dotenv"
   ]
  },
  {
   "cell_type": "code",
   "execution_count": 11,
   "metadata": {},
   "outputs": [],
   "source": [
    "import getpass\n",
    "import os\n",
    "\n",
    "os.environ[\"LANGSMITH_TRACING\"] = \"false\"\n",
    "os.environ[\"LANGSMITH_API_KEY\"] = os.getenv(\"LANGSMITH_API_KEY\")"
   ]
  },
  {
   "cell_type": "code",
   "execution_count": 12,
   "metadata": {},
   "outputs": [],
   "source": [
    "# Load environment variables from a .env file\n",
    "load_dotenv()\n",
    "os.environ[\"GROQ_API_KEY\"] = os.getenv('GROQ_API_KEY') # OpenAI API key"
   ]
  },
  {
   "cell_type": "code",
   "execution_count": 13,
   "metadata": {},
   "outputs": [],
   "source": [
    "from langchain_groq import ChatGroq\n",
    "\n",
    "model = ChatGroq(model=\"llama-3.2-11b-vision-preview\")"
   ]
  },
  {
   "cell_type": "code",
   "execution_count": 14,
   "metadata": {},
   "outputs": [],
   "source": [
    "from langchain_core.prompts import ChatPromptTemplate"
   ]
  },
  {
   "cell_type": "code",
   "execution_count": 15,
   "metadata": {},
   "outputs": [],
   "source": [
    "import base64\n",
    "# Function to encode the image\n",
    "def encode_image(image_path):\n",
    "  with open(image_path, \"rb\") as image_file:\n",
    "    return base64.b64encode(image_file.read()).decode('utf-8')\n",
    "\n",
    "# Path to your image\n",
    "image_path = \"body.png\"\n",
    "\n",
    "# Getting the base64 string\n",
    "\n",
    "query = \"describe the image\" # default query\n",
    "# query = \"Describe the object highlighted by the red box in context to the rest of the image\" # custom query\n",
    "# query = \"Follow up questions\" # chat query\n",
    "\n",
    "base64_image = encode_image(image_path)\n",
    "\n",
    "messages = [\n",
    "        (\"user\", \"Describe the image provided\"),\n",
    "        (\n",
    "            \"user\",\n",
    "            [\n",
    "                {\n",
    "                    \"type\": \"image_url\",\n",
    "                    \"image_url\": {\"url\": \"data:image/jpeg;base64,{base64_image}\"},\n",
    "                }\n",
    "            ],\n",
    "        ),\n",
    "    ]\n",
    "\n",
    "prompt = ChatPromptTemplate.from_messages(messages)"
   ]
  },
  {
   "cell_type": "code",
   "execution_count": 16,
   "metadata": {},
   "outputs": [],
   "source": [
    "chain = prompt | model"
   ]
  },
  {
   "cell_type": "code",
   "execution_count": 17,
   "metadata": {},
   "outputs": [
    {
     "name": "stdout",
     "output_type": "stream",
     "text": [
      "The image appears to be a digital illustration of the human body, showcasing the muscular system. \n",
      "\n",
      "The image is divided into five sections, each depicting a different stage of the human body. The first section shows the skeleton, with the skin and muscles removed to reveal the underlying bone structure. The second section shows the skeleton with the skin and muscles added, but the muscles are not yet fully developed. The third section shows the skeleton with the muscles fully developed, but the skin is still transparent. The fourth section shows the skeleton with the muscles and skin fully developed, but the hair is still visible. The fifth section shows the skeleton with the muscles, skin, and hair fully developed, and the face is visible.\n",
      "\n",
      "Overall, the image provides a detailed illustration of the human body's muscular system, from the bare skeleton to the fully developed muscles and skin. It appears to be a medical or educational illustration, possibly used to teach anatomy or physiology.\n",
      "[('user', 'Describe the image provided'), ('user', [{'type': 'image_url', 'image_url': {'url': 'data:image/jpeg;base64,{base64_image}'}}]), ('assistant', \"The image appears to be a digital illustration of the human body, showcasing the muscular system. \\n\\nThe image is divided into five sections, each depicting a different stage of the human body. The first section shows the skeleton, with the skin and muscles removed to reveal the underlying bone structure. The second section shows the skeleton with the skin and muscles added, but the muscles are not yet fully developed. The third section shows the skeleton with the muscles fully developed, but the skin is still transparent. The fourth section shows the skeleton with the muscles and skin fully developed, but the hair is still visible. The fifth section shows the skeleton with the muscles, skin, and hair fully developed, and the face is visible.\\n\\nOverall, the image provides a detailed illustration of the human body's muscular system, from the bare skeleton to the fully developed muscles and skin. It appears to be a medical or educational illustration, possibly used to teach anatomy or physiology.\")]\n"
     ]
    }
   ],
   "source": [
    "response = chain.invoke({\"base64_image\": base64_image})\n",
    "print(response.content)\n",
    "messages.append((\"assistant\", response.content))\n",
    "print(messages)"
   ]
  },
  {
   "cell_type": "code",
   "execution_count": 22,
   "metadata": {},
   "outputs": [
    {
     "name": "stdout",
     "output_type": "stream",
     "text": [
      "The image presents a comprehensive visual representation of the human body's musculoskeletal system, showcasing the skeletal and muscular structures in various forms. The image is divided into five distinct sections, each highlighting a different aspect of the human body.\n",
      "\n",
      "*   **Skeleton**\n",
      "    *   The first section features a full-body skeleton, providing a detailed view of the bones that make up the human skeleton.\n",
      "    *   The skeleton is depicted in a transparent manner, allowing for a clear understanding of the relationships between the different bones.\n",
      "*   **Muscles**\n",
      "    *   The second section focuses on the muscles of the upper body, including the arms, chest, and back.\n",
      "    *   The muscles are shown in a more detailed and realistic way, with visible muscle fibers and tendons.\n",
      "*   **Muscles of the Lower Body**\n",
      "    *   The third section highlights the muscles of the lower body, including the legs and pelvis.\n",
      "    *   This section provides a detailed view of the muscles that control movement and balance in the lower body.\n",
      "*   **Internal Organs**\n",
      "    *   The fourth section reveals the internal organs that are located within the human body, such as the heart, lungs, and liver.\n",
      "    *   This section provides a unique perspective on the internal workings of the human body.\n",
      "*   **Comparison of Skeletal and Muscular Systems**\n",
      "    *   The final section compares the skeletal and muscular systems, highlighting their interconnectedness and how they work together to enable movement and function.\n",
      "    *   This section provides a comprehensive understanding of the human body's complex systems and how they interact with each other.\n",
      "\n",
      "Overall, the image offers a detailed and informative visual representation of the human body's musculoskeletal system, providing a valuable resource for medical professionals, students, and anyone interested in learning more about the human body.The image presents a comprehensive visual representation of the human body's musculoskeletal system, showcasing the skeletal and muscular structures in various forms. The image is divided into five distinct sections, each highlighting a different aspect of the human body.\n",
      "\n",
      "*   **Skeleton**\n",
      "    *   The first section features a full-body skeleton, providing a detailed view of the bones that make up the human skeleton.\n",
      "    *   The skeleton is depicted in a transparent manner, allowing for a clear understanding of the relationships between the different bones.\n",
      "*   **Muscles**\n",
      "    *   The second section focuses on the muscles of the upper body, including the arms, chest, and back.\n",
      "    *   The muscles are shown in a more detailed and realistic way, with visible muscle fibers and tendons.\n",
      "*   **Muscles of the Lower Body**\n",
      "    *   The third section highlights the muscles of the lower body, including the legs and pelvis.\n",
      "    *   This section provides a detailed view of the muscles that control movement and balance in the lower body.\n",
      "*   **Internal Organs**\n",
      "    *   The fourth section reveals the internal organs that are located within the human body, such as the heart, lungs, and liver.\n",
      "    *   This section provides a unique perspective on the internal workings of the human body.\n",
      "*   **Comparison of Skeletal and Muscular Systems**\n",
      "    *   The final section compares the skeletal and muscular systems, highlighting their interconnectedness and how they work together to enable movement and function.\n",
      "    *   This section provides a comprehensive understanding of the human body's complex systems and how they interact with each other.\n",
      "\n",
      "Overall, the image offers a detailed and informative visual representation of the human body's musculoskeletal system, providing a valuable resource for medical professionals, students, and anyone interested in learning more about the human body.\n"
     ]
    }
   ],
   "source": [
    "res = \"\"\n",
    "for chunk in chain.stream({\"base64_image\": base64_image}):\n",
    "    print(chunk.content, end=\"\")\n",
    "    res += chunk.content\n",
    "\n",
    "print(res)\n"
   ]
  },
  {
   "cell_type": "code",
   "execution_count": null,
   "metadata": {},
   "outputs": [],
   "source": []
  }
 ],
 "metadata": {
  "kernelspec": {
   "display_name": "Python 3",
   "language": "python",
   "name": "python3"
  },
  "language_info": {
   "codemirror_mode": {
    "name": "ipython",
    "version": 3
   },
   "file_extension": ".py",
   "mimetype": "text/x-python",
   "name": "python",
   "nbconvert_exporter": "python",
   "pygments_lexer": "ipython3",
   "version": "3.9.6"
  }
 },
 "nbformat": 4,
 "nbformat_minor": 2
}
